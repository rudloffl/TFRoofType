{
 "cells": [
  {
   "cell_type": "code",
   "execution_count": 1,
   "metadata": {},
   "outputs": [
    {
     "name": "stderr",
     "output_type": "stream",
     "text": [
      "Using TensorFlow backend.\n"
     ]
    },
    {
     "name": "stdout",
     "output_type": "stream",
     "text": [
      "2.2.2\n"
     ]
    }
   ],
   "source": [
    "import numpy as np\n",
    "import pandas as pd\n",
    "import keras\n",
    "import os\n",
    "print(keras.__version__)"
   ]
  },
  {
   "cell_type": "code",
   "execution_count": 2,
   "metadata": {},
   "outputs": [
    {
     "name": "stdout",
     "output_type": "stream",
     "text": [
      "[name: \"/device:CPU:0\"\n",
      "device_type: \"CPU\"\n",
      "memory_limit: 268435456\n",
      "locality {\n",
      "}\n",
      "incarnation: 1455134087873370363\n",
      ", name: \"/device:GPU:0\"\n",
      "device_type: \"GPU\"\n",
      "memory_limit: 7376158720\n",
      "locality {\n",
      "  bus_id: 1\n",
      "  links {\n",
      "  }\n",
      "}\n",
      "incarnation: 3481072334290641731\n",
      "physical_device_desc: \"device: 0, name: GeForce GTX 1080, pci bus id: 0000:01:00.0, compute capability: 6.1\"\n",
      "]\n"
     ]
    }
   ],
   "source": [
    "from tensorflow.python.client import device_lib\n",
    "print(device_lib.list_local_devices())"
   ]
  },
  {
   "cell_type": "code",
   "execution_count": 3,
   "metadata": {},
   "outputs": [],
   "source": [
    "from keras.applications.resnet50 import ResNet50\n",
    "from keras.preprocessing import image"
   ]
  },
  {
   "cell_type": "code",
   "execution_count": null,
   "metadata": {},
   "outputs": [],
   "source": []
  },
  {
   "cell_type": "code",
   "execution_count": 4,
   "metadata": {},
   "outputs": [],
   "source": [
    "image_size = 224\n",
    "num_class = len([x for x in os.listdir('train')])\n",
    "batch_size = 32\n",
    "num_channels = 3\n",
    "train_data_dir = 'train'\n",
    "validation_data_dir = 'test'"
   ]
  },
  {
   "cell_type": "code",
   "execution_count": 5,
   "metadata": {},
   "outputs": [
    {
     "data": {
      "text/plain": [
       "7"
      ]
     },
     "execution_count": 5,
     "metadata": {},
     "output_type": "execute_result"
    }
   ],
   "source": [
    "num_class"
   ]
  },
  {
   "cell_type": "markdown",
   "metadata": {},
   "source": [
    "# Transfer learning - Bottleneck"
   ]
  },
  {
   "cell_type": "code",
   "execution_count": 6,
   "metadata": {},
   "outputs": [],
   "source": [
    "from keras.utils.np_utils import to_categorical\n",
    "from keras.models import Sequential, Model\n",
    "from keras.preprocessing.image import ImageDataGenerator\n",
    "from keras.applications.resnet50 import preprocess_input, decode_predictions"
   ]
  },
  {
   "cell_type": "code",
   "execution_count": 7,
   "metadata": {},
   "outputs": [
    {
     "name": "stderr",
     "output_type": "stream",
     "text": [
      "/home/student/anaconda3/envs/tensor/lib/python3.5/site-packages/keras_applications/resnet50.py:263: UserWarning: The output shape of `ResNet50(include_top=False)` has been changed since Keras 2.2.0.\n",
      "  warnings.warn('The output shape of `ResNet50(include_top=False)` '\n"
     ]
    }
   ],
   "source": [
    "tr_model=ResNet50(include_top=False,\n",
    "                  weights='imagenet',\n",
    "                 input_shape = (224, 224, 3),\n",
    "                 ) #\n",
    "#tr_model.summary()"
   ]
  },
  {
   "cell_type": "code",
   "execution_count": 8,
   "metadata": {},
   "outputs": [],
   "source": [
    "from keras.preprocessing.image import ImageDataGenerator\n",
    "datagen = ImageDataGenerator(preprocessing_function=preprocess_input)"
   ]
  },
  {
   "cell_type": "code",
   "execution_count": 9,
   "metadata": {},
   "outputs": [
    {
     "name": "stdout",
     "output_type": "stream",
     "text": [
      "Found 1083 images belonging to 7 classes.\n"
     ]
    }
   ],
   "source": [
    "# training set\n",
    "train_generator = datagen.flow_from_directory(train_data_dir,\n",
    "                                                    target_size=(image_size,image_size),\n",
    "                                                    class_mode=None,\n",
    "                                                    batch_size=batch_size,\n",
    "                                                    shuffle=False)\n",
    "\n",
    "bottleneck_features_train = tr_model.predict_generator(train_generator)\n",
    "train_labels = to_categorical(train_generator.classes , num_classes=num_class)"
   ]
  },
  {
   "cell_type": "code",
   "execution_count": 10,
   "metadata": {},
   "outputs": [
    {
     "name": "stdout",
     "output_type": "stream",
     "text": [
      "Found 538 images belonging to 7 classes.\n"
     ]
    }
   ],
   "source": [
    "# Validation set\n",
    "validation_generator = datagen.flow_from_directory(validation_data_dir, \n",
    "                                                        target_size=(image_size,image_size),\n",
    "                                                        class_mode=None,\n",
    "                                                        batch_size=batch_size,\n",
    "                                                       shuffle=False)\n",
    "\n",
    "bottleneck_features_validation = tr_model.predict_generator(validation_generator)\n",
    "validation_labels = to_categorical(validation_generator.classes, num_classes=num_class)"
   ]
  },
  {
   "cell_type": "code",
   "execution_count": 11,
   "metadata": {},
   "outputs": [
    {
     "name": "stdout",
     "output_type": "stream",
     "text": [
      "(1083, 7, 7, 2048)\n",
      "(538, 7, 7, 2048)\n"
     ]
    }
   ],
   "source": [
    "print(bottleneck_features_train.shape)\n",
    "print(bottleneck_features_validation.shape)"
   ]
  },
  {
   "cell_type": "markdown",
   "metadata": {},
   "source": [
    "# Model Creation"
   ]
  },
  {
   "cell_type": "code",
   "execution_count": 12,
   "metadata": {},
   "outputs": [
    {
     "name": "stdout",
     "output_type": "stream",
     "text": [
      "_________________________________________________________________\n",
      "Layer (type)                 Output Shape              Param #   \n",
      "=================================================================\n",
      "flatten_1 (Flatten)          (None, 100352)            0         \n",
      "_________________________________________________________________\n",
      "pred (Dense)                 (None, 7)                 702471    \n",
      "=================================================================\n",
      "Total params: 702,471\n",
      "Trainable params: 702,471\n",
      "Non-trainable params: 0\n",
      "_________________________________________________________________\n"
     ]
    }
   ],
   "source": [
    "from keras.layers import GlobalAveragePooling2D\n",
    "from keras.layers import Dense, Dropout, Flatten, Activation, BatchNormalization, regularizers\n",
    "model = Sequential()\n",
    "model.add(Flatten(input_shape=bottleneck_features_train.shape[1:]))\n",
    "#model.add(Dense(1024, activation='relu'))\n",
    "\n",
    "#model.add(BatchNormalization())\n",
    "#model.add(Dropout(0.8))\n",
    "\n",
    "model.add(Dense(num_class, activation='softmax', name='pred'))\n",
    "\n",
    "model.compile(optimizer='adam',\n",
    "              loss='categorical_crossentropy',\n",
    "              metrics=['accuracy'])\n",
    "model.summary()"
   ]
  },
  {
   "cell_type": "code",
   "execution_count": 13,
   "metadata": {},
   "outputs": [],
   "source": [
    "# Early stop\n",
    "from keras.callbacks import ModelCheckpoint, LearningRateScheduler, TensorBoard, EarlyStopping\n",
    "early = EarlyStopping(monitor='val_acc', min_delta=0, patience=15, verbose=1, mode='auto')"
   ]
  },
  {
   "cell_type": "code",
   "execution_count": 14,
   "metadata": {},
   "outputs": [
    {
     "name": "stdout",
     "output_type": "stream",
     "text": [
      "Train on 1083 samples, validate on 538 samples\n",
      "Epoch 1/50\n",
      "1083/1083 [==============================] - 1s 669us/step - loss: 9.1228 - acc: 0.3306 - val_loss: 8.8106 - val_acc: 0.4126\n",
      "Epoch 2/50\n",
      "1083/1083 [==============================] - 0s 314us/step - loss: 8.1169 - acc: 0.4700 - val_loss: 9.9154 - val_acc: 0.3383\n",
      "Epoch 3/50\n",
      "1083/1083 [==============================] - 0s 259us/step - loss: 7.7311 - acc: 0.4894 - val_loss: 8.6124 - val_acc: 0.4126\n",
      "Epoch 4/50\n",
      "1083/1083 [==============================] - 0s 282us/step - loss: 6.7468 - acc: 0.5503 - val_loss: 9.0015 - val_acc: 0.4071\n",
      "Epoch 5/50\n",
      "1083/1083 [==============================] - 0s 333us/step - loss: 6.1249 - acc: 0.5836 - val_loss: 8.4428 - val_acc: 0.4294\n",
      "Epoch 6/50\n",
      "1083/1083 [==============================] - 0s 311us/step - loss: 5.4715 - acc: 0.6343 - val_loss: 8.2621 - val_acc: 0.4591\n",
      "Epoch 7/50\n",
      "1083/1083 [==============================] - 0s 256us/step - loss: 5.4896 - acc: 0.6297 - val_loss: 8.2966 - val_acc: 0.4554\n",
      "Epoch 8/50\n",
      "1083/1083 [==============================] - 0s 270us/step - loss: 5.5794 - acc: 0.6288 - val_loss: 8.4054 - val_acc: 0.4387\n",
      "Epoch 9/50\n",
      "1083/1083 [==============================] - 0s 315us/step - loss: 4.8360 - acc: 0.6842 - val_loss: 8.1344 - val_acc: 0.4424\n",
      "Epoch 10/50\n",
      "1083/1083 [==============================] - 0s 303us/step - loss: 4.5555 - acc: 0.7027 - val_loss: 7.9203 - val_acc: 0.4814\n",
      "Epoch 11/50\n",
      "1083/1083 [==============================] - 0s 283us/step - loss: 4.3602 - acc: 0.7082 - val_loss: 8.3735 - val_acc: 0.4424\n",
      "Epoch 12/50\n",
      "1083/1083 [==============================] - 0s 275us/step - loss: 4.0566 - acc: 0.7368 - val_loss: 7.8624 - val_acc: 0.4665\n",
      "Epoch 13/50\n",
      "1083/1083 [==============================] - 0s 261us/step - loss: 3.8943 - acc: 0.7498 - val_loss: 7.8191 - val_acc: 0.4777\n",
      "Epoch 14/50\n",
      "1083/1083 [==============================] - 0s 291us/step - loss: 4.0572 - acc: 0.7396 - val_loss: 8.2116 - val_acc: 0.4498\n",
      "Epoch 15/50\n",
      "1083/1083 [==============================] - 0s 297us/step - loss: 3.8346 - acc: 0.7535 - val_loss: 8.2732 - val_acc: 0.4554\n",
      "Epoch 16/50\n",
      "1083/1083 [==============================] - 0s 275us/step - loss: 3.6468 - acc: 0.7645 - val_loss: 7.7723 - val_acc: 0.4851\n",
      "Epoch 17/50\n",
      "1083/1083 [==============================] - 0s 286us/step - loss: 3.6620 - acc: 0.7664 - val_loss: 7.4683 - val_acc: 0.5000\n",
      "Epoch 18/50\n",
      "1083/1083 [==============================] - 0s 288us/step - loss: 3.4864 - acc: 0.7765 - val_loss: 7.7022 - val_acc: 0.4981\n",
      "Epoch 19/50\n",
      "1083/1083 [==============================] - 0s 261us/step - loss: 3.4815 - acc: 0.7812 - val_loss: 7.6062 - val_acc: 0.4851\n",
      "Epoch 20/50\n",
      "1083/1083 [==============================] - 0s 266us/step - loss: 3.4324 - acc: 0.7821 - val_loss: 7.5059 - val_acc: 0.4926\n",
      "Epoch 21/50\n",
      "1083/1083 [==============================] - 0s 292us/step - loss: 3.5888 - acc: 0.7673 - val_loss: 8.3641 - val_acc: 0.4498\n",
      "Epoch 22/50\n",
      "1083/1083 [==============================] - 0s 300us/step - loss: 3.3696 - acc: 0.7895 - val_loss: 7.4006 - val_acc: 0.5074\n",
      "Epoch 23/50\n",
      "1083/1083 [==============================] - 0s 275us/step - loss: 3.4001 - acc: 0.7849 - val_loss: 7.6330 - val_acc: 0.4981\n",
      "Epoch 24/50\n",
      "1083/1083 [==============================] - 0s 293us/step - loss: 3.2875 - acc: 0.7932 - val_loss: 7.6250 - val_acc: 0.4907\n",
      "Epoch 25/50\n",
      "1083/1083 [==============================] - 0s 288us/step - loss: 3.2904 - acc: 0.7941 - val_loss: 7.8801 - val_acc: 0.4758\n",
      "Epoch 26/50\n",
      "1083/1083 [==============================] - 0s 300us/step - loss: 3.2565 - acc: 0.7941 - val_loss: 7.6580 - val_acc: 0.4833\n",
      "Epoch 27/50\n",
      "1083/1083 [==============================] - 0s 270us/step - loss: 3.2003 - acc: 0.7996 - val_loss: 7.8508 - val_acc: 0.4833\n",
      "Epoch 28/50\n",
      "1083/1083 [==============================] - 0s 275us/step - loss: 3.1497 - acc: 0.8024 - val_loss: 8.0178 - val_acc: 0.4721\n",
      "Epoch 29/50\n",
      "1083/1083 [==============================] - 0s 279us/step - loss: 3.1653 - acc: 0.8015 - val_loss: 7.8233 - val_acc: 0.4777\n",
      "Epoch 30/50\n",
      "1083/1083 [==============================] - 0s 268us/step - loss: 3.1596 - acc: 0.8033 - val_loss: 7.7207 - val_acc: 0.4870\n",
      "Epoch 31/50\n",
      "1083/1083 [==============================] - 0s 269us/step - loss: 3.1552 - acc: 0.8042 - val_loss: 7.7432 - val_acc: 0.4833\n",
      "Epoch 32/50\n",
      "1083/1083 [==============================] - 0s 275us/step - loss: 3.1552 - acc: 0.8042 - val_loss: 7.7441 - val_acc: 0.4833\n",
      "Epoch 33/50\n",
      "1083/1083 [==============================] - 0s 273us/step - loss: 3.1552 - acc: 0.8042 - val_loss: 7.7441 - val_acc: 0.4833\n",
      "Epoch 34/50\n",
      "1083/1083 [==============================] - 0s 282us/step - loss: 3.1552 - acc: 0.8042 - val_loss: 7.7441 - val_acc: 0.4833\n",
      "Epoch 35/50\n",
      "1083/1083 [==============================] - 0s 290us/step - loss: 3.1552 - acc: 0.8042 - val_loss: 7.7441 - val_acc: 0.4833\n",
      "Epoch 36/50\n",
      "1083/1083 [==============================] - 0s 277us/step - loss: 3.1552 - acc: 0.8042 - val_loss: 7.7441 - val_acc: 0.4833\n",
      "Epoch 37/50\n",
      "1083/1083 [==============================] - 0s 289us/step - loss: 3.1552 - acc: 0.8042 - val_loss: 7.7441 - val_acc: 0.4833\n",
      "Epoch 00037: early stopping\n"
     ]
    }
   ],
   "source": [
    "history = model.fit(bottleneck_features_train, train_labels,\n",
    "          epochs=50,\n",
    "          batch_size=batch_size,\n",
    "          validation_data=(bottleneck_features_validation, validation_labels),\n",
    "                   callbacks = [early])"
   ]
  },
  {
   "cell_type": "code",
   "execution_count": 15,
   "metadata": {},
   "outputs": [
    {
     "data": {
      "text/plain": [
       "<Figure size 640x480 with 1 Axes>"
      ]
     },
     "metadata": {},
     "output_type": "display_data"
    }
   ],
   "source": [
    "import matplotlib.pyplot as plt\n",
    "import numpy\n",
    "\n",
    "# summarize history for accuracy\n",
    "plt.plot(history.history['acc'])\n",
    "plt.plot(history.history['val_acc'])\n",
    "plt.title('model accuracy')\n",
    "plt.ylabel('accuracy')\n",
    "plt.xlabel('epoch')\n",
    "plt.legend(['train', 'test'], loc='upper left')\n",
    "plt.show()"
   ]
  },
  {
   "cell_type": "markdown",
   "metadata": {},
   "source": [
    "# Data augmentation"
   ]
  },
  {
   "cell_type": "code",
   "execution_count": 16,
   "metadata": {},
   "outputs": [
    {
     "name": "stdout",
     "output_type": "stream",
     "text": [
      "Found 1083 images belonging to 7 classes.\n",
      "Found 538 images belonging to 7 classes.\n"
     ]
    }
   ],
   "source": [
    "train_datagen = ImageDataGenerator(rotation_range=10,\n",
    "                                   shear_range=0.2,\n",
    "                                   channel_shift_range=20,\n",
    "                                   width_shift_range=0.2,\n",
    "                                   height_shift_range=0.2,\n",
    "                                   zoom_range=0.2,\n",
    "                                   horizontal_flip=True,\n",
    "                                   vertical_flip=True,\n",
    "                                   #rescale=1./255,\n",
    "                                   preprocessing_function=preprocess_input\n",
    "                                    )\n",
    "\n",
    "validation_datagen = ImageDataGenerator(#rescale=1./255,\n",
    "                                        preprocessing_function=preprocess_input)\n",
    "\n",
    "\n",
    "train_generator = train_datagen.flow_from_directory(train_data_dir,\n",
    "                                                    target_size=(image_size,image_size),\n",
    "                                                    class_mode='categorical',\n",
    "                                                    batch_size=batch_size,\n",
    "                                                    shuffle=True)\n",
    "validation_generator = validation_datagen.flow_from_directory(validation_data_dir, \n",
    "                                                        target_size=(image_size,image_size),\n",
    "                                                        class_mode='categorical',\n",
    "                                                        batch_size=batch_size,\n",
    "                                                       shuffle=False)"
   ]
  },
  {
   "cell_type": "code",
   "execution_count": 17,
   "metadata": {},
   "outputs": [
    {
     "name": "stderr",
     "output_type": "stream",
     "text": [
      "/home/student/anaconda3/envs/tensor/lib/python3.5/site-packages/keras_applications/resnet50.py:263: UserWarning: The output shape of `ResNet50(include_top=False)` has been changed since Keras 2.2.0.\n",
      "  warnings.warn('The output shape of `ResNet50(include_top=False)` '\n"
     ]
    }
   ],
   "source": [
    "da_model=ResNet50(include_top=False,\n",
    "                  weights='imagenet',\n",
    "                 input_shape = (224, 224, 3),\n",
    "                 )\n",
    "\n",
    "#da_model.summary()"
   ]
  },
  {
   "cell_type": "code",
   "execution_count": 18,
   "metadata": {},
   "outputs": [],
   "source": [
    "from keras.layers import GlobalAveragePooling2D\n",
    "from keras.layers import Dense, Dropout, Flatten, Activation, BatchNormalization, regularizers\n",
    "\n",
    "#Adding custom Layers \n",
    "last_layer = da_model.output\n",
    "x = Flatten()(last_layer)\n",
    "#x = Dense(1024, activation=\"relu\", name='ds1')(x)\n",
    "#x = BatchNormalization(name = 'bn')(x)\n",
    "x = Dropout(0.75, name='do1')(x)\n",
    "\n",
    "#x = Dense(1024, activation=\"relu\", name='ds2')(x)\n",
    "\n",
    "# add a global spatial average pooling layer\n",
    "# add fully-connected & dropout layers\n",
    "#x = Dense(512, activation='relu',name='fc-1')(x)\n",
    "#x = Dropout(0.5)(x)\n",
    "#x = Dense(256, activation='relu',name='fc-2')(x)\n",
    "#x = Dropout(0.5)(x)\n",
    "\n",
    "\n",
    "predictions = Dense(num_class, activation=\"softmax\", name='pred')(x)"
   ]
  },
  {
   "cell_type": "code",
   "execution_count": 19,
   "metadata": {},
   "outputs": [],
   "source": [
    "# creating the final model \n",
    "model_final = Model(inputs = da_model.input, outputs = predictions)\n",
    "#model_final.summary()"
   ]
  },
  {
   "cell_type": "code",
   "execution_count": 20,
   "metadata": {},
   "outputs": [
    {
     "name": "stdout",
     "output_type": "stream",
     "text": [
      "trainable  -->  pred\n",
      "trainable  -->  do1\n",
      "trainable  -->  bn5c_branch2c\n",
      "trainable  -->  res5c_branch2c\n",
      "trainable  -->  bn5c_branch2b\n",
      "trainable  -->  res5c_branch2b\n",
      "trainable  -->  bn5c_branch2a\n",
      "trainable  -->  res5c_branch2a\n"
     ]
    }
   ],
   "source": [
    "# Freeze the layers which you don't want to train. \n",
    "layernum = 0\n",
    "for layer in model_final.layers[::-1]:\n",
    "    layernum += 1\n",
    "    if layer.name in ['ds1', 'ds2', 'pred', 'do1', 'bn', 'res5c_branch2c', 'bn5c_branch2c', 'res5c_branch2a', 'bn5c_branch2a', 'res5c_branch2b', 'bn5c_branch2b']:\n",
    "        layer.trainable = True\n",
    "        print('trainable  --> ', layer.name)\n",
    "    else:\n",
    "        layer.trainable = False\n",
    "#model_final.summary()\n"
   ]
  },
  {
   "cell_type": "code",
   "execution_count": 21,
   "metadata": {},
   "outputs": [],
   "source": [
    "# Early stop\n",
    "from keras import optimizers\n",
    "from keras.callbacks import ModelCheckpoint, LearningRateScheduler, TensorBoard, EarlyStopping\n",
    "early = EarlyStopping(monitor='val_acc', min_delta=0, patience=20, verbose=1, mode='auto')\n",
    "\n",
    "# compile the model \n",
    "model_final.compile(loss = 'categorical_crossentropy',\n",
    "                     optimizer = 'adam', #optimizers.SGD(lr=0.001),\n",
    "                     metrics=[\"acc\"])"
   ]
  },
  {
   "cell_type": "code",
   "execution_count": 22,
   "metadata": {},
   "outputs": [
    {
     "name": "stdout",
     "output_type": "stream",
     "text": [
      "Epoch 1/100\n",
      "33/33 [==============================] - 19s 570ms/step - loss: 6.4364 - acc: 0.3355 - val_loss: 7.1448 - val_acc: 0.3327\n",
      "Epoch 2/100\n",
      "33/33 [==============================] - 18s 547ms/step - loss: 5.6843 - acc: 0.3989 - val_loss: 8.7271 - val_acc: 0.3141\n",
      "Epoch 3/100\n",
      "33/33 [==============================] - 18s 540ms/step - loss: 6.0004 - acc: 0.4320 - val_loss: 6.9284 - val_acc: 0.4572\n",
      "Epoch 4/100\n",
      "33/33 [==============================] - 17s 528ms/step - loss: 6.0614 - acc: 0.4456 - val_loss: 7.2377 - val_acc: 0.4461\n",
      "Epoch 5/100\n",
      "33/33 [==============================] - 17s 513ms/step - loss: 5.9081 - acc: 0.4763 - val_loss: 7.0253 - val_acc: 0.4851\n",
      "Epoch 6/100\n",
      "33/33 [==============================] - 17s 501ms/step - loss: 6.0386 - acc: 0.5019 - val_loss: 7.0443 - val_acc: 0.4814\n",
      "Epoch 7/100\n",
      "33/33 [==============================] - 17s 505ms/step - loss: 5.8474 - acc: 0.5360 - val_loss: 6.9965 - val_acc: 0.4777\n",
      "Epoch 8/100\n",
      "33/33 [==============================] - 17s 501ms/step - loss: 6.0514 - acc: 0.5228 - val_loss: 7.9630 - val_acc: 0.4517\n",
      "Epoch 9/100\n",
      "33/33 [==============================] - 17s 510ms/step - loss: 6.2209 - acc: 0.5124 - val_loss: 7.8664 - val_acc: 0.4498\n",
      "Epoch 10/100\n",
      "33/33 [==============================] - 17s 502ms/step - loss: 5.7643 - acc: 0.5476 - val_loss: 7.3651 - val_acc: 0.4851\n",
      "Epoch 11/100\n",
      "33/33 [==============================] - 17s 505ms/step - loss: 5.8950 - acc: 0.5388 - val_loss: 6.7623 - val_acc: 0.5112\n",
      "Epoch 12/100\n",
      "33/33 [==============================] - 17s 503ms/step - loss: 5.5602 - acc: 0.5767 - val_loss: 6.6916 - val_acc: 0.5335\n",
      "Epoch 13/100\n",
      "33/33 [==============================] - 17s 503ms/step - loss: 5.4301 - acc: 0.5943 - val_loss: 6.8912 - val_acc: 0.5279\n",
      "Epoch 14/100\n",
      "33/33 [==============================] - 17s 502ms/step - loss: 5.8645 - acc: 0.5572 - val_loss: 6.5218 - val_acc: 0.5446\n",
      "Epoch 15/100\n",
      "33/33 [==============================] - 17s 505ms/step - loss: 5.5234 - acc: 0.5814 - val_loss: 7.1167 - val_acc: 0.5149\n",
      "Epoch 16/100\n",
      "33/33 [==============================] - 17s 501ms/step - loss: 5.4865 - acc: 0.5955 - val_loss: 6.8805 - val_acc: 0.5112\n",
      "Epoch 17/100\n",
      "33/33 [==============================] - 17s 503ms/step - loss: 5.3443 - acc: 0.6047 - val_loss: 7.1936 - val_acc: 0.4981\n",
      "Epoch 18/100\n",
      "33/33 [==============================] - 17s 505ms/step - loss: 5.7448 - acc: 0.5805 - val_loss: 6.6218 - val_acc: 0.5409\n",
      "Epoch 19/100\n",
      "33/33 [==============================] - 17s 502ms/step - loss: 5.5346 - acc: 0.5933 - val_loss: 7.3689 - val_acc: 0.4851\n",
      "Epoch 20/100\n",
      "33/33 [==============================] - 17s 504ms/step - loss: 5.3070 - acc: 0.6176 - val_loss: 8.1172 - val_acc: 0.4758\n",
      "Epoch 21/100\n",
      "33/33 [==============================] - 17s 503ms/step - loss: 5.7809 - acc: 0.5898 - val_loss: 8.8851 - val_acc: 0.4257\n",
      "Epoch 22/100\n",
      "33/33 [==============================] - 17s 508ms/step - loss: 5.4776 - acc: 0.6136 - val_loss: 7.1414 - val_acc: 0.5223\n",
      "Epoch 23/100\n",
      "33/33 [==============================] - 17s 500ms/step - loss: 5.4661 - acc: 0.6095 - val_loss: 7.0820 - val_acc: 0.5093\n",
      "Epoch 24/100\n",
      "33/33 [==============================] - 17s 505ms/step - loss: 5.2896 - acc: 0.6307 - val_loss: 8.2298 - val_acc: 0.4684\n",
      "Epoch 25/100\n",
      "33/33 [==============================] - 17s 503ms/step - loss: 5.5614 - acc: 0.6053 - val_loss: 7.4313 - val_acc: 0.5019\n",
      "Epoch 26/100\n",
      "33/33 [==============================] - 17s 504ms/step - loss: 5.1214 - acc: 0.6350 - val_loss: 8.5796 - val_acc: 0.4480\n",
      "Epoch 27/100\n",
      "33/33 [==============================] - 17s 505ms/step - loss: 5.4860 - acc: 0.6196 - val_loss: 7.9683 - val_acc: 0.4814\n",
      "Epoch 28/100\n",
      "33/33 [==============================] - 17s 501ms/step - loss: 5.4544 - acc: 0.6223 - val_loss: 7.8104 - val_acc: 0.4963\n",
      "Epoch 29/100\n",
      "33/33 [==============================] - 17s 503ms/step - loss: 4.9773 - acc: 0.6493 - val_loss: 6.9813 - val_acc: 0.5223\n",
      "Epoch 30/100\n",
      "33/33 [==============================] - 17s 503ms/step - loss: 5.4621 - acc: 0.6248 - val_loss: 8.3031 - val_acc: 0.4591\n",
      "Epoch 31/100\n",
      "33/33 [==============================] - 17s 501ms/step - loss: 5.3155 - acc: 0.6303 - val_loss: 7.4278 - val_acc: 0.5093\n",
      "Epoch 32/100\n",
      "33/33 [==============================] - 17s 501ms/step - loss: 5.3495 - acc: 0.6291 - val_loss: 7.1556 - val_acc: 0.5204\n",
      "Epoch 33/100\n",
      "33/33 [==============================] - 17s 503ms/step - loss: 5.5595 - acc: 0.6133 - val_loss: 7.3794 - val_acc: 0.4981\n",
      "Epoch 34/100\n",
      "33/33 [==============================] - 17s 503ms/step - loss: 5.0356 - acc: 0.6525 - val_loss: 6.7496 - val_acc: 0.5446\n",
      "Epoch 35/100\n",
      "33/33 [==============================] - 17s 501ms/step - loss: 5.3844 - acc: 0.6331 - val_loss: 6.5373 - val_acc: 0.5632\n",
      "Epoch 36/100\n",
      "33/33 [==============================] - 18s 550ms/step - loss: 5.0355 - acc: 0.6511 - val_loss: 6.7235 - val_acc: 0.5502\n",
      "Epoch 37/100\n",
      "33/33 [==============================] - 18s 547ms/step - loss: 5.4104 - acc: 0.6337 - val_loss: 7.1030 - val_acc: 0.5335\n",
      "Epoch 38/100\n",
      "33/33 [==============================] - 18s 536ms/step - loss: 5.0159 - acc: 0.6532 - val_loss: 7.1025 - val_acc: 0.5223\n",
      "Epoch 39/100\n",
      "33/33 [==============================] - 17s 525ms/step - loss: 5.4134 - acc: 0.6361 - val_loss: 7.2410 - val_acc: 0.5297\n",
      "Epoch 40/100\n",
      "33/33 [==============================] - 17s 515ms/step - loss: 5.1753 - acc: 0.6357 - val_loss: 6.6181 - val_acc: 0.5651\n",
      "Epoch 41/100\n",
      "33/33 [==============================] - 17s 513ms/step - loss: 5.3008 - acc: 0.6335 - val_loss: 7.2417 - val_acc: 0.5260\n",
      "Epoch 42/100\n",
      "33/33 [==============================] - 17s 508ms/step - loss: 5.1740 - acc: 0.6518 - val_loss: 7.5048 - val_acc: 0.5130\n",
      "Epoch 43/100\n",
      "33/33 [==============================] - 17s 509ms/step - loss: 5.5347 - acc: 0.6228 - val_loss: 6.8344 - val_acc: 0.5558\n",
      "Epoch 44/100\n",
      "33/33 [==============================] - 17s 506ms/step - loss: 5.2905 - acc: 0.6376 - val_loss: 6.7344 - val_acc: 0.5502\n",
      "Epoch 45/100\n",
      "33/33 [==============================] - 17s 503ms/step - loss: 4.9527 - acc: 0.6569 - val_loss: 6.6807 - val_acc: 0.5502\n",
      "Epoch 46/100\n",
      "33/33 [==============================] - 17s 505ms/step - loss: 4.9158 - acc: 0.6629 - val_loss: 7.4414 - val_acc: 0.5204\n",
      "Epoch 47/100\n",
      "33/33 [==============================] - 17s 505ms/step - loss: 4.9998 - acc: 0.6569 - val_loss: 7.2905 - val_acc: 0.5223\n",
      "Epoch 48/100\n",
      "33/33 [==============================] - 17s 519ms/step - loss: 5.0607 - acc: 0.6629 - val_loss: 6.6373 - val_acc: 0.5743\n",
      "Epoch 49/100\n",
      "33/33 [==============================] - 17s 503ms/step - loss: 4.8936 - acc: 0.6601 - val_loss: 7.1867 - val_acc: 0.5353\n",
      "Epoch 50/100\n",
      "33/33 [==============================] - 17s 511ms/step - loss: 4.9632 - acc: 0.6648 - val_loss: 7.0350 - val_acc: 0.5353\n",
      "Epoch 51/100\n",
      "33/33 [==============================] - 17s 508ms/step - loss: 4.8138 - acc: 0.6763 - val_loss: 7.1956 - val_acc: 0.5297\n",
      "Epoch 52/100\n",
      "33/33 [==============================] - 17s 511ms/step - loss: 4.7459 - acc: 0.6676 - val_loss: 6.6449 - val_acc: 0.5595\n",
      "Epoch 53/100\n",
      "33/33 [==============================] - 17s 513ms/step - loss: 4.8127 - acc: 0.6801 - val_loss: 6.6256 - val_acc: 0.5743\n",
      "Epoch 54/100\n",
      "33/33 [==============================] - 17s 502ms/step - loss: 4.7102 - acc: 0.6837 - val_loss: 7.9531 - val_acc: 0.4833\n",
      "Epoch 55/100\n",
      "33/33 [==============================] - 17s 505ms/step - loss: 5.6124 - acc: 0.6155 - val_loss: 7.5705 - val_acc: 0.5037\n",
      "Epoch 56/100\n",
      "33/33 [==============================] - 17s 506ms/step - loss: 5.1885 - acc: 0.6564 - val_loss: 7.5410 - val_acc: 0.5093\n",
      "Epoch 57/100\n",
      "33/33 [==============================] - 17s 502ms/step - loss: 5.3598 - acc: 0.6422 - val_loss: 7.2113 - val_acc: 0.5186\n",
      "Epoch 58/100\n",
      "33/33 [==============================] - 17s 503ms/step - loss: 4.7380 - acc: 0.6797 - val_loss: 7.4335 - val_acc: 0.5112\n",
      "Epoch 59/100\n",
      "33/33 [==============================] - 17s 502ms/step - loss: 5.0306 - acc: 0.6674 - val_loss: 7.1360 - val_acc: 0.5335\n",
      "Epoch 60/100\n",
      "33/33 [==============================] - 17s 503ms/step - loss: 5.0267 - acc: 0.6583 - val_loss: 6.1595 - val_acc: 0.5874\n",
      "Epoch 61/100\n",
      "33/33 [==============================] - 17s 502ms/step - loss: 5.2162 - acc: 0.6542 - val_loss: 6.6549 - val_acc: 0.5706\n",
      "Epoch 62/100\n",
      "33/33 [==============================] - 17s 503ms/step - loss: 4.5220 - acc: 0.6954 - val_loss: 5.9492 - val_acc: 0.6004\n",
      "Epoch 63/100\n",
      "33/33 [==============================] - 16s 498ms/step - loss: 4.6096 - acc: 0.6883 - val_loss: 6.5170 - val_acc: 0.5613\n",
      "Epoch 64/100\n",
      "33/33 [==============================] - 17s 506ms/step - loss: 4.5333 - acc: 0.6979 - val_loss: 6.5116 - val_acc: 0.5632\n",
      "Epoch 65/100\n",
      "33/33 [==============================] - 17s 504ms/step - loss: 5.0299 - acc: 0.6541 - val_loss: 6.3394 - val_acc: 0.5762\n",
      "Epoch 66/100\n",
      "33/33 [==============================] - 17s 501ms/step - loss: 4.3363 - acc: 0.7069 - val_loss: 6.4288 - val_acc: 0.5632\n",
      "Epoch 67/100\n",
      "33/33 [==============================] - 17s 506ms/step - loss: 4.7547 - acc: 0.6861 - val_loss: 6.2461 - val_acc: 0.5892\n",
      "Epoch 68/100\n",
      "33/33 [==============================] - 17s 507ms/step - loss: 5.0799 - acc: 0.6567 - val_loss: 6.1205 - val_acc: 0.5929\n",
      "Epoch 69/100\n",
      "33/33 [==============================] - 17s 508ms/step - loss: 4.4707 - acc: 0.6998 - val_loss: 6.9396 - val_acc: 0.5520\n",
      "Epoch 70/100\n",
      "33/33 [==============================] - 18s 549ms/step - loss: 4.3260 - acc: 0.7107 - val_loss: 6.5969 - val_acc: 0.5632\n",
      "Epoch 71/100\n",
      "33/33 [==============================] - 18s 537ms/step - loss: 5.0650 - acc: 0.6672 - val_loss: 6.4971 - val_acc: 0.5706\n",
      "Epoch 72/100\n",
      "33/33 [==============================] - 17s 527ms/step - loss: 4.9292 - acc: 0.6730 - val_loss: 6.5542 - val_acc: 0.5799\n",
      "Epoch 73/100\n",
      "33/33 [==============================] - 17s 522ms/step - loss: 5.3782 - acc: 0.6418 - val_loss: 6.0483 - val_acc: 0.6022\n",
      "Epoch 74/100\n",
      "33/33 [==============================] - 17s 507ms/step - loss: 4.9093 - acc: 0.6742 - val_loss: 6.4512 - val_acc: 0.5781\n",
      "Epoch 75/100\n",
      "33/33 [==============================] - 17s 504ms/step - loss: 4.8881 - acc: 0.6800 - val_loss: 6.5656 - val_acc: 0.5669\n",
      "Epoch 76/100\n",
      "33/33 [==============================] - 17s 504ms/step - loss: 4.6352 - acc: 0.6908 - val_loss: 6.0655 - val_acc: 0.6115\n",
      "Epoch 77/100\n",
      "33/33 [==============================] - 17s 506ms/step - loss: 4.9666 - acc: 0.6714 - val_loss: 6.2059 - val_acc: 0.5911\n",
      "Epoch 78/100\n",
      "33/33 [==============================] - 17s 505ms/step - loss: 4.7364 - acc: 0.6865 - val_loss: 6.2230 - val_acc: 0.5929\n",
      "Epoch 79/100\n",
      "33/33 [==============================] - 17s 506ms/step - loss: 4.7817 - acc: 0.6821 - val_loss: 7.0722 - val_acc: 0.5372\n",
      "Epoch 80/100\n",
      "33/33 [==============================] - 16s 500ms/step - loss: 4.6724 - acc: 0.6929 - val_loss: 7.2526 - val_acc: 0.5242\n",
      "Epoch 81/100\n",
      "33/33 [==============================] - 17s 504ms/step - loss: 4.5264 - acc: 0.6973 - val_loss: 6.5630 - val_acc: 0.5613\n",
      "Epoch 82/100\n",
      "33/33 [==============================] - 17s 504ms/step - loss: 4.4359 - acc: 0.7069 - val_loss: 6.1726 - val_acc: 0.5911\n",
      "Epoch 83/100\n",
      "33/33 [==============================] - 17s 503ms/step - loss: 4.5997 - acc: 0.6910 - val_loss: 7.8529 - val_acc: 0.4870\n",
      "Epoch 84/100\n",
      "33/33 [==============================] - 17s 514ms/step - loss: 4.3532 - acc: 0.7131 - val_loss: 6.9301 - val_acc: 0.5428\n",
      "Epoch 85/100\n",
      "33/33 [==============================] - 17s 511ms/step - loss: 4.9349 - acc: 0.6741 - val_loss: 7.0611 - val_acc: 0.5279\n",
      "Epoch 86/100\n",
      "33/33 [==============================] - 17s 505ms/step - loss: 4.2715 - acc: 0.7192 - val_loss: 8.1760 - val_acc: 0.4758\n",
      "Epoch 87/100\n",
      "33/33 [==============================] - 17s 517ms/step - loss: 4.5728 - acc: 0.6951 - val_loss: 7.1697 - val_acc: 0.5353\n",
      "Epoch 88/100\n",
      "33/33 [==============================] - 17s 506ms/step - loss: 4.6661 - acc: 0.6894 - val_loss: 7.2977 - val_acc: 0.5279\n",
      "Epoch 89/100\n",
      "33/33 [==============================] - 17s 512ms/step - loss: 4.4750 - acc: 0.7027 - val_loss: 7.6417 - val_acc: 0.5130\n",
      "Epoch 90/100\n",
      "33/33 [==============================] - 17s 506ms/step - loss: 4.6991 - acc: 0.6946 - val_loss: 7.5425 - val_acc: 0.5130\n",
      "Epoch 91/100\n",
      "33/33 [==============================] - 17s 510ms/step - loss: 4.8690 - acc: 0.6780 - val_loss: 8.0179 - val_acc: 0.4833\n",
      "Epoch 92/100\n",
      "33/33 [==============================] - 17s 510ms/step - loss: 4.6763 - acc: 0.6965 - val_loss: 7.1696 - val_acc: 0.5372\n",
      "Epoch 93/100\n",
      "33/33 [==============================] - 17s 504ms/step - loss: 4.6864 - acc: 0.6943 - val_loss: 7.1431 - val_acc: 0.5465\n",
      "Epoch 94/100\n",
      "33/33 [==============================] - 17s 502ms/step - loss: 4.6899 - acc: 0.6923 - val_loss: 8.5961 - val_acc: 0.4535\n",
      "Epoch 95/100\n",
      "33/33 [==============================] - 17s 505ms/step - loss: 4.5082 - acc: 0.7008 - val_loss: 8.1655 - val_acc: 0.4814\n",
      "Epoch 96/100\n",
      "33/33 [==============================] - 17s 503ms/step - loss: 4.0735 - acc: 0.7309 - val_loss: 7.6950 - val_acc: 0.5112\n",
      "Epoch 00096: early stopping\n"
     ]
    }
   ],
   "source": [
    "# Train the model \n",
    "\n",
    "history = model_final.fit_generator(\n",
    "        train_generator,\n",
    "        epochs = 100,\n",
    "        steps_per_epoch=len(train_generator.filenames) // batch_size,\n",
    "        validation_steps=len(validation_generator.filenames) // batch_size,\n",
    "        #workers=4,\n",
    "        validation_data = validation_generator,\n",
    "        callbacks = [early]\n",
    "         )"
   ]
  },
  {
   "cell_type": "code",
   "execution_count": 23,
   "metadata": {},
   "outputs": [
    {
     "data": {
      "image/png": "[encoded data removed]",
      "text/plain": [
       "<Figure size 432x288 with 1 Axes>"
      ]
     },
     "metadata": {
      "needs_background": "light"
     },
     "output_type": "display_data"
    }
   ],
   "source": [
    "import matplotlib.pyplot as plt\n",
    "import numpy\n",
    "\n",
    "# summarize history for accuracy\n",
    "plt.plot(history.history['acc'])\n",
    "plt.plot(history.history['val_acc'])\n",
    "plt.title('model accuracy')\n",
    "plt.ylabel('accuracy')\n",
    "plt.xlabel('epoch')\n",
    "plt.legend(['train', 'test'], loc='upper left')\n",
    "plt.show()"
   ]
  },
  {
   "cell_type": "code",
   "execution_count": null,
   "metadata": {},
   "outputs": [],
   "source": []
  }
 ],
 "metadata": {
  "kernelspec": {
   "display_name": "Python 3",
   "language": "python",
   "name": "python3"
  },
  "language_info": {
   "codemirror_mode": {
    "name": "ipython",
    "version": 3
   },
   "file_extension": ".py",
   "mimetype": "text/x-python",
   "name": "python",
   "nbconvert_exporter": "python",
   "pygments_lexer": "ipython3",
   "version": "3.5.6"
  }
 },
 "nbformat": 4,
 "nbformat_minor": 2
}
